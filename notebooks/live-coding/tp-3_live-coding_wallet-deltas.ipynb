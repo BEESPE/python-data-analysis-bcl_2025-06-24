{
 "cells": [
  {
   "cell_type": "markdown",
   "metadata": {},
   "source": [
    "Charger les 2 fichiers CSV inventaires dans des dataframes pandas."
   ]
  },
  {
   "cell_type": "code",
   "execution_count": 1,
   "metadata": {},
   "outputs": [],
   "source": [
    "from pathlib import Path\n",
    "\n",
    "import matplotlib.pyplot as plt\n",
    "import pandas as pd"
   ]
  },
  {
   "cell_type": "code",
   "execution_count": 2,
   "metadata": {},
   "outputs": [],
   "source": [
    "DATA_DIR = Path(\"../../data\")\n",
    "INPUT_DIR = Path(DATA_DIR, \"portfolio-inventories\")\n",
    "OUTPUT_DIR = Path(DATA_DIR, \"output\")"
   ]
  },
  {
   "cell_type": "code",
   "execution_count": 3,
   "metadata": {},
   "outputs": [],
   "source": [
    "PORTFOLIO_CODE = \"Portoflio Code\"\n",
    "ASSET_CODE = \"Asset Code\"\n",
    "QUANTITY = \"Quantity\""
   ]
  },
  {
   "cell_type": "code",
   "execution_count": 4,
   "metadata": {},
   "outputs": [],
   "source": [
    "COLS = [PORTFOLIO_CODE, ASSET_CODE, QUANTITY]"
   ]
  },
  {
   "cell_type": "code",
   "execution_count": 5,
   "metadata": {},
   "outputs": [],
   "source": [
    "portfolio_d1_df = pd.read_csv(\n",
    "    Path(INPUT_DIR, \"day1.ptf_inventories.csv\"),\n",
    "    sep=\";\",\n",
    "    # usecols=COLS,\n",
    ")\n",
    "\n",
    "portfolio_d2_df = pd.read_csv(\n",
    "    Path(INPUT_DIR, \"day2.ptf_inventories.csv\"),\n",
    "    sep=\";\",\n",
    "    # usecols=COLS,\n",
    ")\n"
   ]
  },
  {
   "cell_type": "code",
   "execution_count": 6,
   "metadata": {},
   "outputs": [],
   "source": [
    "portfolio_d1_df = portfolio_d1_df[COLS]\n",
    "portfolio_d2_df = portfolio_d2_df[COLS]"
   ]
  },
  {
   "cell_type": "code",
   "execution_count": 7,
   "metadata": {},
   "outputs": [
    {
     "data": {
      "text/html": [
       "<div>\n",
       "<style scoped>\n",
       "    .dataframe tbody tr th:only-of-type {\n",
       "        vertical-align: middle;\n",
       "    }\n",
       "\n",
       "    .dataframe tbody tr th {\n",
       "        vertical-align: top;\n",
       "    }\n",
       "\n",
       "    .dataframe thead th {\n",
       "        text-align: right;\n",
       "    }\n",
       "</style>\n",
       "<table border=\"1\" class=\"dataframe\">\n",
       "  <thead>\n",
       "    <tr style=\"text-align: right;\">\n",
       "      <th></th>\n",
       "      <th>Portoflio Code</th>\n",
       "      <th>Asset Code</th>\n",
       "      <th>Quantity</th>\n",
       "    </tr>\n",
       "  </thead>\n",
       "  <tbody>\n",
       "    <tr>\n",
       "      <th>0</th>\n",
       "      <td>111111</td>\n",
       "      <td>frw01G8</td>\n",
       "      <td>7.247088e+04</td>\n",
       "    </tr>\n",
       "    <tr>\n",
       "      <th>1</th>\n",
       "      <td>111111</td>\n",
       "      <td>frw01UH</td>\n",
       "      <td>1.272192e+06</td>\n",
       "    </tr>\n",
       "    <tr>\n",
       "      <th>2</th>\n",
       "      <td>111111</td>\n",
       "      <td>frw01VY</td>\n",
       "      <td>5.294401e+04</td>\n",
       "    </tr>\n",
       "    <tr>\n",
       "      <th>3</th>\n",
       "      <td>111111</td>\n",
       "      <td>frw01WK</td>\n",
       "      <td>2.101907e+06</td>\n",
       "    </tr>\n",
       "    <tr>\n",
       "      <th>4</th>\n",
       "      <td>111111</td>\n",
       "      <td>frw01XE</td>\n",
       "      <td>4.907177e+05</td>\n",
       "    </tr>\n",
       "  </tbody>\n",
       "</table>\n",
       "</div>"
      ],
      "text/plain": [
       "   Portoflio Code Asset Code      Quantity\n",
       "0          111111    frw01G8  7.247088e+04\n",
       "1          111111    frw01UH  1.272192e+06\n",
       "2          111111    frw01VY  5.294401e+04\n",
       "3          111111    frw01WK  2.101907e+06\n",
       "4          111111    frw01XE  4.907177e+05"
      ]
     },
     "metadata": {},
     "output_type": "display_data"
    },
    {
     "data": {
      "text/html": [
       "<div>\n",
       "<style scoped>\n",
       "    .dataframe tbody tr th:only-of-type {\n",
       "        vertical-align: middle;\n",
       "    }\n",
       "\n",
       "    .dataframe tbody tr th {\n",
       "        vertical-align: top;\n",
       "    }\n",
       "\n",
       "    .dataframe thead th {\n",
       "        text-align: right;\n",
       "    }\n",
       "</style>\n",
       "<table border=\"1\" class=\"dataframe\">\n",
       "  <thead>\n",
       "    <tr style=\"text-align: right;\">\n",
       "      <th></th>\n",
       "      <th>Portoflio Code</th>\n",
       "      <th>Asset Code</th>\n",
       "      <th>Quantity</th>\n",
       "    </tr>\n",
       "  </thead>\n",
       "  <tbody>\n",
       "    <tr>\n",
       "      <th>0</th>\n",
       "      <td>111111</td>\n",
       "      <td>frw01G8</td>\n",
       "      <td>7.247088e+04</td>\n",
       "    </tr>\n",
       "    <tr>\n",
       "      <th>1</th>\n",
       "      <td>111111</td>\n",
       "      <td>frw01UH</td>\n",
       "      <td>1.272192e+06</td>\n",
       "    </tr>\n",
       "    <tr>\n",
       "      <th>2</th>\n",
       "      <td>111111</td>\n",
       "      <td>frw01VY</td>\n",
       "      <td>5.294401e+04</td>\n",
       "    </tr>\n",
       "    <tr>\n",
       "      <th>3</th>\n",
       "      <td>111111</td>\n",
       "      <td>frw01WK</td>\n",
       "      <td>2.101907e+06</td>\n",
       "    </tr>\n",
       "    <tr>\n",
       "      <th>4</th>\n",
       "      <td>111111</td>\n",
       "      <td>frw01ZR</td>\n",
       "      <td>5.972627e+04</td>\n",
       "    </tr>\n",
       "  </tbody>\n",
       "</table>\n",
       "</div>"
      ],
      "text/plain": [
       "   Portoflio Code Asset Code      Quantity\n",
       "0          111111    frw01G8  7.247088e+04\n",
       "1          111111    frw01UH  1.272192e+06\n",
       "2          111111    frw01VY  5.294401e+04\n",
       "3          111111    frw01WK  2.101907e+06\n",
       "4          111111    frw01ZR  5.972627e+04"
      ]
     },
     "metadata": {},
     "output_type": "display_data"
    }
   ],
   "source": [
    "pd.set_option(\"display.max_columns\", None)\n",
    "display(portfolio_d1_df.head())\n",
    "display(portfolio_d2_df.head())"
   ]
  },
  {
   "cell_type": "markdown",
   "metadata": {},
   "source": [
    "Explorer ces fichiers pour essayer d'en comprendre la structure."
   ]
  },
  {
   "cell_type": "markdown",
   "metadata": {},
   "source": [
    "Déterminer s'il y a des lignes en \"doublon\"."
   ]
  },
  {
   "cell_type": "code",
   "execution_count": 8,
   "metadata": {},
   "outputs": [],
   "source": [
    "duplicated_data_mask = portfolio_d1_df.duplicated(\n",
    "    [PORTFOLIO_CODE, ASSET_CODE],\n",
    "    keep=False\n",
    ")"
   ]
  },
  {
   "cell_type": "code",
   "execution_count": 9,
   "metadata": {},
   "outputs": [
    {
     "data": {
      "text/html": [
       "<div>\n",
       "<style scoped>\n",
       "    .dataframe tbody tr th:only-of-type {\n",
       "        vertical-align: middle;\n",
       "    }\n",
       "\n",
       "    .dataframe tbody tr th {\n",
       "        vertical-align: top;\n",
       "    }\n",
       "\n",
       "    .dataframe thead th {\n",
       "        text-align: right;\n",
       "    }\n",
       "</style>\n",
       "<table border=\"1\" class=\"dataframe\">\n",
       "  <thead>\n",
       "    <tr style=\"text-align: right;\">\n",
       "      <th></th>\n",
       "      <th>Portoflio Code</th>\n",
       "      <th>Asset Code</th>\n",
       "      <th>Quantity</th>\n",
       "    </tr>\n",
       "  </thead>\n",
       "  <tbody>\n",
       "    <tr>\n",
       "      <th>47</th>\n",
       "      <td>111111</td>\n",
       "      <td>FutUCO22412</td>\n",
       "      <td>31.609809</td>\n",
       "    </tr>\n",
       "    <tr>\n",
       "      <th>62</th>\n",
       "      <td>111111</td>\n",
       "      <td>FutBCO22412</td>\n",
       "      <td>-2.370736</td>\n",
       "    </tr>\n",
       "    <tr>\n",
       "      <th>69</th>\n",
       "      <td>111111</td>\n",
       "      <td>FutBCO22412</td>\n",
       "      <td>11.063433</td>\n",
       "    </tr>\n",
       "    <tr>\n",
       "      <th>70</th>\n",
       "      <td>111111</td>\n",
       "      <td>FutUCO22412</td>\n",
       "      <td>42.673242</td>\n",
       "    </tr>\n",
       "    <tr>\n",
       "      <th>274</th>\n",
       "      <td>111111</td>\n",
       "      <td>ISINS7620S9Y</td>\n",
       "      <td>303.454162</td>\n",
       "    </tr>\n",
       "    <tr>\n",
       "      <th>275</th>\n",
       "      <td>111111</td>\n",
       "      <td>ISINS7620S9Y</td>\n",
       "      <td>1296.792395</td>\n",
       "    </tr>\n",
       "    <tr>\n",
       "      <th>371</th>\n",
       "      <td>111111</td>\n",
       "      <td>ISIN01Q91500</td>\n",
       "      <td>2245.876896</td>\n",
       "    </tr>\n",
       "    <tr>\n",
       "      <th>372</th>\n",
       "      <td>111111</td>\n",
       "      <td>ISIN01Q91500</td>\n",
       "      <td>6513.991291</td>\n",
       "    </tr>\n",
       "    <tr>\n",
       "      <th>597</th>\n",
       "      <td>222222</td>\n",
       "      <td>FutBCO22412</td>\n",
       "      <td>-1.580490</td>\n",
       "    </tr>\n",
       "    <tr>\n",
       "      <th>602</th>\n",
       "      <td>222222</td>\n",
       "      <td>FutPIN22412</td>\n",
       "      <td>2.370736</td>\n",
       "    </tr>\n",
       "    <tr>\n",
       "      <th>612</th>\n",
       "      <td>222222</td>\n",
       "      <td>FutPIN22412</td>\n",
       "      <td>0.790245</td>\n",
       "    </tr>\n",
       "    <tr>\n",
       "      <th>620</th>\n",
       "      <td>222222</td>\n",
       "      <td>FutUCO22412</td>\n",
       "      <td>37.931770</td>\n",
       "    </tr>\n",
       "    <tr>\n",
       "      <th>621</th>\n",
       "      <td>222222</td>\n",
       "      <td>FutBCO22412</td>\n",
       "      <td>-3.951226</td>\n",
       "    </tr>\n",
       "    <tr>\n",
       "      <th>622</th>\n",
       "      <td>222222</td>\n",
       "      <td>FutUCO22412</td>\n",
       "      <td>-16.595149</td>\n",
       "    </tr>\n",
       "    <tr>\n",
       "      <th>847</th>\n",
       "      <td>222222</td>\n",
       "      <td>ISINS7620S9Y</td>\n",
       "      <td>74.283050</td>\n",
       "    </tr>\n",
       "    <tr>\n",
       "      <th>848</th>\n",
       "      <td>222222</td>\n",
       "      <td>ISINS7620S9Y</td>\n",
       "      <td>381.688438</td>\n",
       "    </tr>\n",
       "    <tr>\n",
       "      <th>964</th>\n",
       "      <td>222222</td>\n",
       "      <td>ISIN01Q91500</td>\n",
       "      <td>575.298515</td>\n",
       "    </tr>\n",
       "    <tr>\n",
       "      <th>965</th>\n",
       "      <td>222222</td>\n",
       "      <td>ISIN01Q91500</td>\n",
       "      <td>1577.329445</td>\n",
       "    </tr>\n",
       "  </tbody>\n",
       "</table>\n",
       "</div>"
      ],
      "text/plain": [
       "     Portoflio Code    Asset Code     Quantity\n",
       "47           111111   FutUCO22412    31.609809\n",
       "62           111111   FutBCO22412    -2.370736\n",
       "69           111111   FutBCO22412    11.063433\n",
       "70           111111   FutUCO22412    42.673242\n",
       "274          111111  ISINS7620S9Y   303.454162\n",
       "275          111111  ISINS7620S9Y  1296.792395\n",
       "371          111111  ISIN01Q91500  2245.876896\n",
       "372          111111  ISIN01Q91500  6513.991291\n",
       "597          222222   FutBCO22412    -1.580490\n",
       "602          222222   FutPIN22412     2.370736\n",
       "612          222222   FutPIN22412     0.790245\n",
       "620          222222   FutUCO22412    37.931770\n",
       "621          222222   FutBCO22412    -3.951226\n",
       "622          222222   FutUCO22412   -16.595149\n",
       "847          222222  ISINS7620S9Y    74.283050\n",
       "848          222222  ISINS7620S9Y   381.688438\n",
       "964          222222  ISIN01Q91500   575.298515\n",
       "965          222222  ISIN01Q91500  1577.329445"
      ]
     },
     "execution_count": 9,
     "metadata": {},
     "output_type": "execute_result"
    }
   ],
   "source": [
    "portfolio_d1_df[duplicated_data_mask]"
   ]
  },
  {
   "cell_type": "markdown",
   "metadata": {},
   "source": [
    "Agréger les lignes multiples associées à un même couple (portfolio, asset), en utilisant une fonction d'agrégation pertinente."
   ]
  },
  {
   "cell_type": "code",
   "execution_count": 10,
   "metadata": {},
   "outputs": [],
   "source": [
    "aggregated_d1_df = portfolio_d1_df.groupby(\n",
    "    [PORTFOLIO_CODE, ASSET_CODE]\n",
    ").sum(\n",
    ").reset_index()\n",
    "\n",
    "aggregated_d2_df = portfolio_d2_df.groupby(\n",
    "    [PORTFOLIO_CODE, ASSET_CODE]\n",
    ").sum(\n",
    ").reset_index()"
   ]
  },
  {
   "cell_type": "code",
   "execution_count": 11,
   "metadata": {},
   "outputs": [
    {
     "data": {
      "text/html": [
       "<div>\n",
       "<style scoped>\n",
       "    .dataframe tbody tr th:only-of-type {\n",
       "        vertical-align: middle;\n",
       "    }\n",
       "\n",
       "    .dataframe tbody tr th {\n",
       "        vertical-align: top;\n",
       "    }\n",
       "\n",
       "    .dataframe thead th {\n",
       "        text-align: right;\n",
       "    }\n",
       "</style>\n",
       "<table border=\"1\" class=\"dataframe\">\n",
       "  <thead>\n",
       "    <tr style=\"text-align: right;\">\n",
       "      <th></th>\n",
       "      <th>Portoflio Code</th>\n",
       "      <th>Asset Code</th>\n",
       "      <th>Quantity</th>\n",
       "    </tr>\n",
       "  </thead>\n",
       "  <tbody>\n",
       "    <tr>\n",
       "      <th>0</th>\n",
       "      <td>111111</td>\n",
       "      <td>CashAUD</td>\n",
       "      <td>95178.18449</td>\n",
       "    </tr>\n",
       "    <tr>\n",
       "      <th>1</th>\n",
       "      <td>111111</td>\n",
       "      <td>CashCAD</td>\n",
       "      <td>14870.54203</td>\n",
       "    </tr>\n",
       "    <tr>\n",
       "      <th>2</th>\n",
       "      <td>111111</td>\n",
       "      <td>CashCHF</td>\n",
       "      <td>34195.61730</td>\n",
       "    </tr>\n",
       "    <tr>\n",
       "      <th>3</th>\n",
       "      <td>111111</td>\n",
       "      <td>CashDKK</td>\n",
       "      <td>87008.76382</td>\n",
       "    </tr>\n",
       "    <tr>\n",
       "      <th>4</th>\n",
       "      <td>111111</td>\n",
       "      <td>CashEUR</td>\n",
       "      <td>181067.57390</td>\n",
       "    </tr>\n",
       "  </tbody>\n",
       "</table>\n",
       "</div>"
      ],
      "text/plain": [
       "   Portoflio Code Asset Code      Quantity\n",
       "0          111111    CashAUD   95178.18449\n",
       "1          111111    CashCAD   14870.54203\n",
       "2          111111    CashCHF   34195.61730\n",
       "3          111111    CashDKK   87008.76382\n",
       "4          111111    CashEUR  181067.57390"
      ]
     },
     "execution_count": 11,
     "metadata": {},
     "output_type": "execute_result"
    }
   ],
   "source": [
    "aggregated_d1_df.head()"
   ]
  },
  {
   "cell_type": "code",
   "execution_count": 12,
   "metadata": {},
   "outputs": [
    {
     "data": {
      "text/html": [
       "<div>\n",
       "<style scoped>\n",
       "    .dataframe tbody tr th:only-of-type {\n",
       "        vertical-align: middle;\n",
       "    }\n",
       "\n",
       "    .dataframe tbody tr th {\n",
       "        vertical-align: top;\n",
       "    }\n",
       "\n",
       "    .dataframe thead th {\n",
       "        text-align: right;\n",
       "    }\n",
       "</style>\n",
       "<table border=\"1\" class=\"dataframe\">\n",
       "  <thead>\n",
       "    <tr style=\"text-align: right;\">\n",
       "      <th></th>\n",
       "      <th>Portoflio Code</th>\n",
       "      <th>Asset Code</th>\n",
       "      <th>Quantity</th>\n",
       "    </tr>\n",
       "  </thead>\n",
       "  <tbody>\n",
       "    <tr>\n",
       "      <th>0</th>\n",
       "      <td>111111</td>\n",
       "      <td>CashAUD</td>\n",
       "      <td>95178.18449</td>\n",
       "    </tr>\n",
       "    <tr>\n",
       "      <th>1</th>\n",
       "      <td>111111</td>\n",
       "      <td>CashCAD</td>\n",
       "      <td>14870.54203</td>\n",
       "    </tr>\n",
       "    <tr>\n",
       "      <th>2</th>\n",
       "      <td>111111</td>\n",
       "      <td>CashCHF</td>\n",
       "      <td>34195.61730</td>\n",
       "    </tr>\n",
       "    <tr>\n",
       "      <th>3</th>\n",
       "      <td>111111</td>\n",
       "      <td>CashDKK</td>\n",
       "      <td>87008.76382</td>\n",
       "    </tr>\n",
       "    <tr>\n",
       "      <th>4</th>\n",
       "      <td>111111</td>\n",
       "      <td>CashEUR</td>\n",
       "      <td>181067.57390</td>\n",
       "    </tr>\n",
       "  </tbody>\n",
       "</table>\n",
       "</div>"
      ],
      "text/plain": [
       "   Portoflio Code Asset Code      Quantity\n",
       "0          111111    CashAUD   95178.18449\n",
       "1          111111    CashCAD   14870.54203\n",
       "2          111111    CashCHF   34195.61730\n",
       "3          111111    CashDKK   87008.76382\n",
       "4          111111    CashEUR  181067.57390"
      ]
     },
     "execution_count": 12,
     "metadata": {},
     "output_type": "execute_result"
    }
   ],
   "source": [
    "aggregated_d2_df.head()"
   ]
  },
  {
   "cell_type": "markdown",
   "metadata": {},
   "source": [
    "Ecrire un petit script permettant de calculer les variations de chaque asset de chaque portfolio, dès lors qu'il y a eu une variation non nulle. Stocker les résultats dans un dataframe."
   ]
  },
  {
   "cell_type": "code",
   "execution_count": 13,
   "metadata": {},
   "outputs": [],
   "source": [
    "merged_df = aggregated_d1_df.merge(\n",
    "    aggregated_d2_df,\n",
    "    how=\"outer\",\n",
    "    on=[PORTFOLIO_CODE, ASSET_CODE],\n",
    "    suffixes=(\"_before\", \"_after\"),\n",
    ").fillna(0)"
   ]
  },
  {
   "cell_type": "code",
   "execution_count": 14,
   "metadata": {},
   "outputs": [],
   "source": [
    "merged_df[\"variation\"] = merged_df[\"Quantity_after\"] - merged_df[\"Quantity_before\"]"
   ]
  },
  {
   "cell_type": "code",
   "execution_count": 15,
   "metadata": {},
   "outputs": [
    {
     "data": {
      "text/html": [
       "<div>\n",
       "<style scoped>\n",
       "    .dataframe tbody tr th:only-of-type {\n",
       "        vertical-align: middle;\n",
       "    }\n",
       "\n",
       "    .dataframe tbody tr th {\n",
       "        vertical-align: top;\n",
       "    }\n",
       "\n",
       "    .dataframe thead th {\n",
       "        text-align: right;\n",
       "    }\n",
       "</style>\n",
       "<table border=\"1\" class=\"dataframe\">\n",
       "  <thead>\n",
       "    <tr style=\"text-align: right;\">\n",
       "      <th></th>\n",
       "      <th>Portoflio Code</th>\n",
       "      <th>Asset Code</th>\n",
       "      <th>Quantity_before</th>\n",
       "      <th>Quantity_after</th>\n",
       "      <th>variation</th>\n",
       "    </tr>\n",
       "  </thead>\n",
       "  <tbody>\n",
       "    <tr>\n",
       "      <th>0</th>\n",
       "      <td>111111</td>\n",
       "      <td>CashAUD</td>\n",
       "      <td>9.517818e+04</td>\n",
       "      <td>9.517818e+04</td>\n",
       "      <td>0.0</td>\n",
       "    </tr>\n",
       "    <tr>\n",
       "      <th>1</th>\n",
       "      <td>111111</td>\n",
       "      <td>CashCAD</td>\n",
       "      <td>1.487054e+04</td>\n",
       "      <td>1.487054e+04</td>\n",
       "      <td>0.0</td>\n",
       "    </tr>\n",
       "    <tr>\n",
       "      <th>2</th>\n",
       "      <td>111111</td>\n",
       "      <td>CashCHF</td>\n",
       "      <td>3.419562e+04</td>\n",
       "      <td>3.419562e+04</td>\n",
       "      <td>0.0</td>\n",
       "    </tr>\n",
       "    <tr>\n",
       "      <th>3</th>\n",
       "      <td>111111</td>\n",
       "      <td>CashDKK</td>\n",
       "      <td>8.700876e+04</td>\n",
       "      <td>8.700876e+04</td>\n",
       "      <td>0.0</td>\n",
       "    </tr>\n",
       "    <tr>\n",
       "      <th>4</th>\n",
       "      <td>111111</td>\n",
       "      <td>CashEUR</td>\n",
       "      <td>1.810676e+05</td>\n",
       "      <td>1.810676e+05</td>\n",
       "      <td>0.0</td>\n",
       "    </tr>\n",
       "    <tr>\n",
       "      <th>...</th>\n",
       "      <td>...</td>\n",
       "      <td>...</td>\n",
       "      <td>...</td>\n",
       "      <td>...</td>\n",
       "      <td>...</td>\n",
       "    </tr>\n",
       "    <tr>\n",
       "      <th>1166</th>\n",
       "      <td>222222</td>\n",
       "      <td>frw06GY</td>\n",
       "      <td>2.256224e+04</td>\n",
       "      <td>2.256224e+04</td>\n",
       "      <td>0.0</td>\n",
       "    </tr>\n",
       "    <tr>\n",
       "      <th>1167</th>\n",
       "      <td>222222</td>\n",
       "      <td>frw079D</td>\n",
       "      <td>9.939006e+06</td>\n",
       "      <td>9.939006e+06</td>\n",
       "      <td>0.0</td>\n",
       "    </tr>\n",
       "    <tr>\n",
       "      <th>1168</th>\n",
       "      <td>222222</td>\n",
       "      <td>frw07BR</td>\n",
       "      <td>9.645461e+05</td>\n",
       "      <td>9.645461e+05</td>\n",
       "      <td>0.0</td>\n",
       "    </tr>\n",
       "    <tr>\n",
       "      <th>1169</th>\n",
       "      <td>222222</td>\n",
       "      <td>frw07KD</td>\n",
       "      <td>7.421405e+05</td>\n",
       "      <td>7.421405e+05</td>\n",
       "      <td>0.0</td>\n",
       "    </tr>\n",
       "    <tr>\n",
       "      <th>1170</th>\n",
       "      <td>222222</td>\n",
       "      <td>frw0AJH</td>\n",
       "      <td>2.292223e+06</td>\n",
       "      <td>2.292223e+06</td>\n",
       "      <td>0.0</td>\n",
       "    </tr>\n",
       "  </tbody>\n",
       "</table>\n",
       "<p>1171 rows × 5 columns</p>\n",
       "</div>"
      ],
      "text/plain": [
       "      Portoflio Code Asset Code  Quantity_before  Quantity_after  variation\n",
       "0             111111    CashAUD     9.517818e+04    9.517818e+04        0.0\n",
       "1             111111    CashCAD     1.487054e+04    1.487054e+04        0.0\n",
       "2             111111    CashCHF     3.419562e+04    3.419562e+04        0.0\n",
       "3             111111    CashDKK     8.700876e+04    8.700876e+04        0.0\n",
       "4             111111    CashEUR     1.810676e+05    1.810676e+05        0.0\n",
       "...              ...        ...              ...             ...        ...\n",
       "1166          222222    frw06GY     2.256224e+04    2.256224e+04        0.0\n",
       "1167          222222    frw079D     9.939006e+06    9.939006e+06        0.0\n",
       "1168          222222    frw07BR     9.645461e+05    9.645461e+05        0.0\n",
       "1169          222222    frw07KD     7.421405e+05    7.421405e+05        0.0\n",
       "1170          222222    frw0AJH     2.292223e+06    2.292223e+06        0.0\n",
       "\n",
       "[1171 rows x 5 columns]"
      ]
     },
     "execution_count": 15,
     "metadata": {},
     "output_type": "execute_result"
    }
   ],
   "source": [
    "merged_df"
   ]
  },
  {
   "cell_type": "code",
   "execution_count": 16,
   "metadata": {},
   "outputs": [],
   "source": [
    "variation_df = merged_df[merged_df[\"variation\"] != 0][[PORTFOLIO_CODE, ASSET_CODE, \"variation\"]]"
   ]
  },
  {
   "cell_type": "code",
   "execution_count": 17,
   "metadata": {},
   "outputs": [
    {
     "data": {
      "text/html": [
       "<div>\n",
       "<style scoped>\n",
       "    .dataframe tbody tr th:only-of-type {\n",
       "        vertical-align: middle;\n",
       "    }\n",
       "\n",
       "    .dataframe tbody tr th {\n",
       "        vertical-align: top;\n",
       "    }\n",
       "\n",
       "    .dataframe thead th {\n",
       "        text-align: right;\n",
       "    }\n",
       "</style>\n",
       "<table border=\"1\" class=\"dataframe\">\n",
       "  <thead>\n",
       "    <tr style=\"text-align: right;\">\n",
       "      <th></th>\n",
       "      <th>Portoflio Code</th>\n",
       "      <th>Asset Code</th>\n",
       "      <th>variation</th>\n",
       "    </tr>\n",
       "  </thead>\n",
       "  <tbody>\n",
       "    <tr>\n",
       "      <th>45</th>\n",
       "      <td>111111</td>\n",
       "      <td>ISIN00018578</td>\n",
       "      <td>6875.133354</td>\n",
       "    </tr>\n",
       "    <tr>\n",
       "      <th>55</th>\n",
       "      <td>111111</td>\n",
       "      <td>ISIN00069035</td>\n",
       "      <td>7033.182396</td>\n",
       "    </tr>\n",
       "    <tr>\n",
       "      <th>61</th>\n",
       "      <td>111111</td>\n",
       "      <td>ISIN00096472</td>\n",
       "      <td>22601.013090</td>\n",
       "    </tr>\n",
       "    <tr>\n",
       "      <th>66</th>\n",
       "      <td>111111</td>\n",
       "      <td>ISIN01759635</td>\n",
       "      <td>-79024.521310</td>\n",
       "    </tr>\n",
       "    <tr>\n",
       "      <th>84</th>\n",
       "      <td>111111</td>\n",
       "      <td>ISIN07750454</td>\n",
       "      <td>-102731.877700</td>\n",
       "    </tr>\n",
       "  </tbody>\n",
       "</table>\n",
       "</div>"
      ],
      "text/plain": [
       "    Portoflio Code    Asset Code      variation\n",
       "45          111111  ISIN00018578    6875.133354\n",
       "55          111111  ISIN00069035    7033.182396\n",
       "61          111111  ISIN00096472   22601.013090\n",
       "66          111111  ISIN01759635  -79024.521310\n",
       "84          111111  ISIN07750454 -102731.877700"
      ]
     },
     "execution_count": 17,
     "metadata": {},
     "output_type": "execute_result"
    }
   ],
   "source": [
    "variation_df.head()"
   ]
  },
  {
   "cell_type": "markdown",
   "metadata": {},
   "source": [
    "Exporter le dataframe des variations au format CSV."
   ]
  },
  {
   "cell_type": "code",
   "execution_count": 19,
   "metadata": {},
   "outputs": [],
   "source": [
    "variation_df.to_csv(Path(OUTPUT_DIR, \"variation.csv\"), index=False)"
   ]
  },
  {
   "cell_type": "markdown",
   "metadata": {},
   "source": [
    "### Compléments"
   ]
  },
  {
   "cell_type": "markdown",
   "metadata": {},
   "source": [
    "Enregistrer le résultat dans un fichier Excel templaté."
   ]
  },
  {
   "cell_type": "code",
   "execution_count": 22,
   "metadata": {},
   "outputs": [],
   "source": [
    "from datetime import datetime\n",
    "from shutil import copyfile\n",
    "\n",
    "from openpyxl import load_workbook"
   ]
  },
  {
   "cell_type": "code",
   "execution_count": 23,
   "metadata": {},
   "outputs": [],
   "source": [
    "template_path = Path(DATA_DIR, \"templates\", \"variation_template.xlsx\")\n",
    "\n",
    "today = datetime.today().strftime(\"%Y-%m-%d\")\n",
    "output_file_path = Path(OUTPUT_DIR, f\"filled_template_variations_{today}.xlsx\")\n",
    "\n",
    "output_file_path.parent.mkdir(parents=True, exist_ok=True)\n",
    "copyfile(template_path, output_file_path)\n",
    "\n",
    "wb = load_workbook(output_file_path)\n",
    "\n",
    "with pd.ExcelWriter(\n",
    "    output_file_path,\n",
    "    engine=\"openpyxl\",\n",
    "    mode=\"a\",\n",
    "    if_sheet_exists=\"overlay\",\n",
    ") as writer:\n",
    "\n",
    "    variation_df.to_excel(\n",
    "        writer,\n",
    "        sheet_name=\"Data\",\n",
    "        startrow=1,\n",
    "        index=False,\n",
    "        header=False,\n",
    "    )  "
   ]
  },
  {
   "cell_type": "markdown",
   "metadata": {},
   "source": [
    "Mettre en forme un nouveau fichier Excel dans le code."
   ]
  },
  {
   "cell_type": "code",
   "execution_count": 24,
   "metadata": {},
   "outputs": [],
   "source": [
    "from openpyxl.styles import Font"
   ]
  },
  {
   "cell_type": "code",
   "execution_count": 25,
   "metadata": {},
   "outputs": [],
   "source": [
    "today = datetime.today().strftime(\"%Y-%m-%d\")\n",
    "output_file = Path(OUTPUT_DIR, f\"red_header_variations_{today}.xlsx\")\n",
    "\n",
    "with pd.ExcelWriter(output_file, engine=\"openpyxl\") as writer:\n",
    "    variation_df.to_excel(\n",
    "        writer,\n",
    "        sheet_name=\"Data\",\n",
    "        startrow=0,\n",
    "        startcol=0,\n",
    "        index=False,\n",
    ")\n",
    "\n",
    "    wb = writer.book\n",
    "    ws = writer.sheets[\"Data\"]\n",
    "\n",
    "    red_bold = Font(bold=True, color=\"FF0000\")\n",
    "\n",
    "    for cell in ws[1]:\n",
    "        cell.font = red_bold"
   ]
  },
  {
   "cell_type": "markdown",
   "metadata": {},
   "source": [
    "### Visualisations"
   ]
  },
  {
   "cell_type": "markdown",
   "metadata": {},
   "source": [
    "Visualiser la distribution des variations non nulles."
   ]
  },
  {
   "cell_type": "code",
   "execution_count": null,
   "metadata": {},
   "outputs": [],
   "source": [
    "# Votre code ici"
   ]
  },
  {
   "cell_type": "markdown",
   "metadata": {},
   "source": [
    "Visualiser la composition du portefeuille 111111."
   ]
  },
  {
   "cell_type": "code",
   "execution_count": null,
   "metadata": {},
   "outputs": [],
   "source": [
    "# Votre code ici"
   ]
  },
  {
   "cell_type": "markdown",
   "metadata": {},
   "source": [
    "Regrouper les assets représentant moins de 2% dans une catégorie \"others\"."
   ]
  },
  {
   "cell_type": "code",
   "execution_count": null,
   "metadata": {},
   "outputs": [],
   "source": [
    "# Votre code ici"
   ]
  },
  {
   "cell_type": "markdown",
   "metadata": {},
   "source": [
    "S'il n'y en a pas, rajouter des bordures entre les quarties du camembert. Exporter le graphique dans un fichier image."
   ]
  },
  {
   "cell_type": "code",
   "execution_count": null,
   "metadata": {},
   "outputs": [],
   "source": [
    "# Votre code ici"
   ]
  },
  {
   "cell_type": "markdown",
   "metadata": {},
   "source": [
    "Exporter le graphique dans un fichier image."
   ]
  },
  {
   "cell_type": "code",
   "execution_count": 42,
   "metadata": {},
   "outputs": [],
   "source": [
    "# Votre code ici"
   ]
  },
  {
   "cell_type": "code",
   "execution_count": null,
   "metadata": {},
   "outputs": [],
   "source": []
  }
 ],
 "metadata": {
  "kernelspec": {
   "display_name": "Python 3",
   "language": "python",
   "name": "python3"
  },
  "language_info": {
   "codemirror_mode": {
    "name": "ipython",
    "version": 3
   },
   "file_extension": ".py",
   "mimetype": "text/x-python",
   "name": "python",
   "nbconvert_exporter": "python",
   "pygments_lexer": "ipython3",
   "version": "3.11.4"
  }
 },
 "nbformat": 4,
 "nbformat_minor": 2
}
